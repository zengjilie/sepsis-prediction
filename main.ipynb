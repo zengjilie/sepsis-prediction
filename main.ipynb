{
 "cells": [
  {
   "cell_type": "code",
   "execution_count": 106,
   "id": "28ee0931",
   "metadata": {},
   "outputs": [],
   "source": [
    "import numpy as np\n",
    "import pandas as pd\n",
    "from sklearn.utils import _pprint\n",
    "from sklearn.model_selection import train_test_split\n",
    "from sklearn.preprocessing import OneHotEncoder\n",
    "from sklearn.linear_model import LogisticRegression\n",
    "import xgboost as xgb\n",
    "from sklearn.metrics import plot_confusion_matrix\n",
    "from imblearn.under_sampling import RandomUnderSampler\n",
    "\n",
    "# display first 500 rows\n",
    "# pd.set_option('display.max_rows',500)"
   ]
  },
  {
   "cell_type": "markdown",
   "id": "22bfd705",
   "metadata": {},
   "source": [
    "### Loading data "
   ]
  },
  {
   "cell_type": "code",
   "execution_count": 107,
   "id": "154c48f2",
   "metadata": {
    "scrolled": false
   },
   "outputs": [],
   "source": [
    "df_admi = pd.read_csv('./dataset/ADMISSIONS.csv')\n",
    "df_diag = pd.read_csv('./dataset/DIAGNOSES_ICD.csv')\n",
    "df_los = pd.read_csv('./dataset/ICUSTAYS.csv')\n",
    "df_patient = pd.read_csv('./dataset/PATIENTS.csv')"
   ]
  },
  {
   "cell_type": "markdown",
   "id": "8ece8434",
   "metadata": {},
   "source": [
    "###  Data preparation"
   ]
  },
  {
   "cell_type": "code",
   "execution_count": 108,
   "id": "3850ee4a",
   "metadata": {},
   "outputs": [
    {
     "data": {
      "text/html": [
       "<div>\n",
       "<style scoped>\n",
       "    .dataframe tbody tr th:only-of-type {\n",
       "        vertical-align: middle;\n",
       "    }\n",
       "\n",
       "    .dataframe tbody tr th {\n",
       "        vertical-align: top;\n",
       "    }\n",
       "\n",
       "    .dataframe thead th {\n",
       "        text-align: right;\n",
       "    }\n",
       "</style>\n",
       "<table border=\"1\" class=\"dataframe\">\n",
       "  <thead>\n",
       "    <tr style=\"text-align: right;\">\n",
       "      <th></th>\n",
       "      <th>SUBJECT_ID</th>\n",
       "      <th>ADMISSION_TYPE</th>\n",
       "      <th>ADMISSION_LOCATION</th>\n",
       "      <th>DISCHARGE_LOCATION</th>\n",
       "      <th>INSURANCE</th>\n",
       "      <th>RELIGION</th>\n",
       "      <th>MARITAL_STATUS</th>\n",
       "      <th>ETHNICITY</th>\n",
       "    </tr>\n",
       "  </thead>\n",
       "  <tbody>\n",
       "    <tr>\n",
       "      <th>193</th>\n",
       "      <td>109</td>\n",
       "      <td>EMERGENCY</td>\n",
       "      <td>EMERGENCY ROOM ADMIT</td>\n",
       "      <td>DEAD/EXPIRED</td>\n",
       "      <td>Medicaid</td>\n",
       "      <td>NOT SPECIFIED</td>\n",
       "      <td>SINGLE</td>\n",
       "      <td>BLACK/AFRICAN AMERICAN</td>\n",
       "    </tr>\n",
       "    <tr>\n",
       "      <th>196</th>\n",
       "      <td>111</td>\n",
       "      <td>EMERGENCY</td>\n",
       "      <td>EMERGENCY ROOM ADMIT</td>\n",
       "      <td>DEAD/EXPIRED</td>\n",
       "      <td>Medicare</td>\n",
       "      <td>PROTESTANT QUAKER</td>\n",
       "      <td>MARRIED</td>\n",
       "      <td>WHITE</td>\n",
       "    </tr>\n",
       "    <tr>\n",
       "      <th>238</th>\n",
       "      <td>304</td>\n",
       "      <td>EMERGENCY</td>\n",
       "      <td>EMERGENCY ROOM ADMIT</td>\n",
       "      <td>DEAD/EXPIRED</td>\n",
       "      <td>Medicaid</td>\n",
       "      <td>CATHOLIC</td>\n",
       "      <td>WIDOWED</td>\n",
       "      <td>BLACK/AFRICAN AMERICAN</td>\n",
       "    </tr>\n",
       "    <tr>\n",
       "      <th>303</th>\n",
       "      <td>353</td>\n",
       "      <td>EMERGENCY</td>\n",
       "      <td>EMERGENCY ROOM ADMIT</td>\n",
       "      <td>DEAD/EXPIRED</td>\n",
       "      <td>Medicare</td>\n",
       "      <td>JEWISH</td>\n",
       "      <td>SINGLE</td>\n",
       "      <td>WHITE</td>\n",
       "    </tr>\n",
       "    <tr>\n",
       "      <th>358</th>\n",
       "      <td>502</td>\n",
       "      <td>EMERGENCY</td>\n",
       "      <td>CLINIC REFERRAL/PREMATURE</td>\n",
       "      <td>DEAD/EXPIRED</td>\n",
       "      <td>Private</td>\n",
       "      <td>PROTESTANT QUAKER</td>\n",
       "      <td>MARRIED</td>\n",
       "      <td>WHITE</td>\n",
       "    </tr>\n",
       "  </tbody>\n",
       "</table>\n",
       "</div>"
      ],
      "text/plain": [
       "     SUBJECT_ID ADMISSION_TYPE         ADMISSION_LOCATION DISCHARGE_LOCATION  \\\n",
       "193         109      EMERGENCY       EMERGENCY ROOM ADMIT       DEAD/EXPIRED   \n",
       "196         111      EMERGENCY       EMERGENCY ROOM ADMIT       DEAD/EXPIRED   \n",
       "238         304      EMERGENCY       EMERGENCY ROOM ADMIT       DEAD/EXPIRED   \n",
       "303         353      EMERGENCY       EMERGENCY ROOM ADMIT       DEAD/EXPIRED   \n",
       "358         502      EMERGENCY  CLINIC REFERRAL/PREMATURE       DEAD/EXPIRED   \n",
       "\n",
       "    INSURANCE           RELIGION MARITAL_STATUS               ETHNICITY  \n",
       "193  Medicaid      NOT SPECIFIED         SINGLE  BLACK/AFRICAN AMERICAN  \n",
       "196  Medicare  PROTESTANT QUAKER        MARRIED                   WHITE  \n",
       "238  Medicaid           CATHOLIC        WIDOWED  BLACK/AFRICAN AMERICAN  \n",
       "303  Medicare             JEWISH         SINGLE                   WHITE  \n",
       "358   Private  PROTESTANT QUAKER        MARRIED                   WHITE  "
      ]
     },
     "execution_count": 108,
     "metadata": {},
     "output_type": "execute_result"
    }
   ],
   "source": [
    "# Admissions table\n",
    "df_admi = df_admi.dropna()\n",
    "df_admi = df_admi.drop_duplicates(subset=['SUBJECT_ID'],keep = 'first')\n",
    "df_admi.drop([\n",
    "    \"ROW_ID\",\n",
    "    \"ADMITTIME\",\n",
    "    \"DISCHTIME\",\n",
    "    \"DEATHTIME\",\n",
    "    \"EDREGTIME\",\n",
    "    \"EDOUTTIME\",\n",
    "    \"HOSPITAL_EXPIRE_FLAG\",\n",
    "    \"HAS_CHARTEVENTS_DATA\",\n",
    "    \"DIAGNOSIS\",\n",
    "    \"LANGUAGE\",\n",
    "    \"HADM_ID\"\n",
    "], axis=1, inplace=True)\n",
    "df_admi.head()"
   ]
  },
  {
   "cell_type": "code",
   "execution_count": 109,
   "id": "2d588803",
   "metadata": {},
   "outputs": [
    {
     "data": {
      "text/html": [
       "<div>\n",
       "<style scoped>\n",
       "    .dataframe tbody tr th:only-of-type {\n",
       "        vertical-align: middle;\n",
       "    }\n",
       "\n",
       "    .dataframe tbody tr th {\n",
       "        vertical-align: top;\n",
       "    }\n",
       "\n",
       "    .dataframe thead th {\n",
       "        text-align: right;\n",
       "    }\n",
       "</style>\n",
       "<table border=\"1\" class=\"dataframe\">\n",
       "  <thead>\n",
       "    <tr style=\"text-align: right;\">\n",
       "      <th></th>\n",
       "      <th>SUBJECT_ID</th>\n",
       "      <th>is_sepsis</th>\n",
       "    </tr>\n",
       "  </thead>\n",
       "  <tbody>\n",
       "    <tr>\n",
       "      <th>433800</th>\n",
       "      <td>50480</td>\n",
       "      <td>0</td>\n",
       "    </tr>\n",
       "    <tr>\n",
       "      <th>433832</th>\n",
       "      <td>50484</td>\n",
       "      <td>0</td>\n",
       "    </tr>\n",
       "    <tr>\n",
       "      <th>433714</th>\n",
       "      <td>50359</td>\n",
       "      <td>0</td>\n",
       "    </tr>\n",
       "    <tr>\n",
       "      <th>433745</th>\n",
       "      <td>50361</td>\n",
       "      <td>0</td>\n",
       "    </tr>\n",
       "    <tr>\n",
       "      <th>433753</th>\n",
       "      <td>50362</td>\n",
       "      <td>0</td>\n",
       "    </tr>\n",
       "  </tbody>\n",
       "</table>\n",
       "</div>"
      ],
      "text/plain": [
       "        SUBJECT_ID  is_sepsis\n",
       "433800       50480          0\n",
       "433832       50484          0\n",
       "433714       50359          0\n",
       "433745       50361          0\n",
       "433753       50362          0"
      ]
     },
     "execution_count": 109,
     "metadata": {},
     "output_type": "execute_result"
    }
   ],
   "source": [
    "# Diagnoses table\n",
    "df_diag = df_diag.dropna()\n",
    "df_diag.drop([\n",
    "    \"ROW_ID\",\n",
    "    \"SEQ_NUM\",\n",
    "    \"HADM_ID\"\n",
    "],axis = 1, inplace = True)\n",
    "df_diag.loc[df_diag[\"ICD9_CODE\"].str.contains('99591'),\"ICD9_CODE\"] = '\\+1'\n",
    "df_diag.loc[~df_diag[\"ICD9_CODE\"].str.contains('\\+1'),\"ICD9_CODE\"]= '\\-1' \n",
    "\n",
    "def label_sepsis (e):\n",
    "    if e in '\\+1':\n",
    "        return 1\n",
    "    else:\n",
    "        return 0\n",
    "    \n",
    "df_diag['is_sepsis'] = df_diag['ICD9_CODE'].apply(lambda e :label_sepsis(e))\n",
    "\n",
    "df_diag.drop([\n",
    "    \"ICD9_CODE\",\n",
    "],axis = 1, inplace = True)\n",
    "df_diag = df_diag.sort_values('is_sepsis')\n",
    "df_diag = df_diag.drop_duplicates(subset = 'SUBJECT_ID', keep = \"last\")\n",
    "df_diag.head()"
   ]
  },
  {
   "cell_type": "code",
   "execution_count": 110,
   "id": "c08dfd38",
   "metadata": {},
   "outputs": [
    {
     "data": {
      "text/html": [
       "<div>\n",
       "<style scoped>\n",
       "    .dataframe tbody tr th:only-of-type {\n",
       "        vertical-align: middle;\n",
       "    }\n",
       "\n",
       "    .dataframe tbody tr th {\n",
       "        vertical-align: top;\n",
       "    }\n",
       "\n",
       "    .dataframe thead th {\n",
       "        text-align: right;\n",
       "    }\n",
       "</style>\n",
       "<table border=\"1\" class=\"dataframe\">\n",
       "  <thead>\n",
       "    <tr style=\"text-align: right;\">\n",
       "      <th></th>\n",
       "      <th>SUBJECT_ID</th>\n",
       "      <th>LOS</th>\n",
       "    </tr>\n",
       "  </thead>\n",
       "  <tbody>\n",
       "    <tr>\n",
       "      <th>1</th>\n",
       "      <td>3</td>\n",
       "      <td>6</td>\n",
       "    </tr>\n",
       "    <tr>\n",
       "      <th>2</th>\n",
       "      <td>4</td>\n",
       "      <td>1</td>\n",
       "    </tr>\n",
       "    <tr>\n",
       "      <th>4</th>\n",
       "      <td>6</td>\n",
       "      <td>3</td>\n",
       "    </tr>\n",
       "    <tr>\n",
       "      <th>6</th>\n",
       "      <td>8</td>\n",
       "      <td>1</td>\n",
       "    </tr>\n",
       "    <tr>\n",
       "      <th>7</th>\n",
       "      <td>9</td>\n",
       "      <td>5</td>\n",
       "    </tr>\n",
       "  </tbody>\n",
       "</table>\n",
       "</div>"
      ],
      "text/plain": [
       "   SUBJECT_ID  LOS\n",
       "1           3    6\n",
       "2           4    1\n",
       "4           6    3\n",
       "6           8    1\n",
       "7           9    5"
      ]
     },
     "execution_count": 110,
     "metadata": {},
     "output_type": "execute_result"
    }
   ],
   "source": [
    "# LOS table\n",
    "# df_los = df_los.drop_duplicates(subset=['SUBJECT_ID'],keep = 'last')\n",
    "df_los = df_los.dropna()\n",
    "df_los = df_los.groupby('SUBJECT_ID').mean().reset_index()\n",
    "df_los.drop([\n",
    "    \"ROW_ID\",\n",
    "    \"ICUSTAY_ID\",\n",
    "    \"FIRST_WARDID\",\n",
    "    \"LAST_WARDID\",\n",
    "    \"HADM_ID\"\n",
    "],axis = 1, inplace = True)\n",
    "\n",
    "df_los.LOS = df_los.LOS.astype(int)\n",
    "df_los = df_los.loc[df_los['LOS']>=1]\n",
    "df_los.head()"
   ]
  },
  {
   "cell_type": "code",
   "execution_count": 111,
   "id": "eb0da929",
   "metadata": {},
   "outputs": [
    {
     "data": {
      "text/html": [
       "<div>\n",
       "<style scoped>\n",
       "    .dataframe tbody tr th:only-of-type {\n",
       "        vertical-align: middle;\n",
       "    }\n",
       "\n",
       "    .dataframe tbody tr th {\n",
       "        vertical-align: top;\n",
       "    }\n",
       "\n",
       "    .dataframe thead th {\n",
       "        text-align: right;\n",
       "    }\n",
       "</style>\n",
       "<table border=\"1\" class=\"dataframe\">\n",
       "  <thead>\n",
       "    <tr style=\"text-align: right;\">\n",
       "      <th></th>\n",
       "      <th>SUBJECT_ID</th>\n",
       "      <th>GENDER</th>\n",
       "      <th>age</th>\n",
       "    </tr>\n",
       "  </thead>\n",
       "  <tbody>\n",
       "    <tr>\n",
       "      <th>7</th>\n",
       "      <td>257</td>\n",
       "      <td>F</td>\n",
       "      <td>90</td>\n",
       "    </tr>\n",
       "    <tr>\n",
       "      <th>10</th>\n",
       "      <td>261</td>\n",
       "      <td>M</td>\n",
       "      <td>76</td>\n",
       "    </tr>\n",
       "    <tr>\n",
       "      <th>25</th>\n",
       "      <td>668</td>\n",
       "      <td>F</td>\n",
       "      <td>86</td>\n",
       "    </tr>\n",
       "    <tr>\n",
       "      <th>26</th>\n",
       "      <td>669</td>\n",
       "      <td>M</td>\n",
       "      <td>60</td>\n",
       "    </tr>\n",
       "    <tr>\n",
       "      <th>27</th>\n",
       "      <td>670</td>\n",
       "      <td>M</td>\n",
       "      <td>80</td>\n",
       "    </tr>\n",
       "  </tbody>\n",
       "</table>\n",
       "</div>"
      ],
      "text/plain": [
       "    SUBJECT_ID GENDER  age\n",
       "7          257      F   90\n",
       "10         261      M   76\n",
       "25         668      F   86\n",
       "26         669      M   60\n",
       "27         670      M   80"
      ]
     },
     "execution_count": 111,
     "metadata": {},
     "output_type": "execute_result"
    }
   ],
   "source": [
    "# Patient table\n",
    "# df_patient = df_patient.drop_duplicates(subset=['SUBJECT_ID','HADM_ID'],keep = 'first')\n",
    "df_patient = df_patient.dropna()\n",
    "df_patient['DOB'] = pd.to_datetime(df_patient['DOB']).dt.date\n",
    "df_patient['DOD'] = pd.to_datetime(df_patient['DOD']).dt.date\n",
    "df_patient['age'] = df_patient.apply(lambda e:(e['DOD'] - e['DOB']).days/365,axis = 1)\n",
    "df_patient.age = df_patient.age.astype(int)\n",
    "df_patient.drop([\n",
    "    \"ROW_ID\",\n",
    "    \"EXPIRE_FLAG\",\n",
    "    \"DOD_SSN\",\n",
    "    \"DOD_HOSP\",\n",
    "    \"DOD\",\n",
    "    \"DOB\"\n",
    "],axis = 1, inplace = True)\n",
    "df_patient = df_patient.loc[df_patient['age']<=100]\n",
    "df_patient.head()"
   ]
  },
  {
   "cell_type": "code",
   "execution_count": 112,
   "id": "53b6df25",
   "metadata": {},
   "outputs": [
    {
     "data": {
      "text/html": [
       "<div>\n",
       "<style scoped>\n",
       "    .dataframe tbody tr th:only-of-type {\n",
       "        vertical-align: middle;\n",
       "    }\n",
       "\n",
       "    .dataframe tbody tr th {\n",
       "        vertical-align: top;\n",
       "    }\n",
       "\n",
       "    .dataframe thead th {\n",
       "        text-align: right;\n",
       "    }\n",
       "</style>\n",
       "<table border=\"1\" class=\"dataframe\">\n",
       "  <thead>\n",
       "    <tr style=\"text-align: right;\">\n",
       "      <th></th>\n",
       "      <th>ADMISSION_LOCATION</th>\n",
       "      <th>INSURANCE</th>\n",
       "      <th>RELIGION</th>\n",
       "      <th>MARITAL_STATUS</th>\n",
       "      <th>ETHNICITY</th>\n",
       "      <th>is_sepsis</th>\n",
       "      <th>LOS</th>\n",
       "      <th>GENDER</th>\n",
       "      <th>age</th>\n",
       "    </tr>\n",
       "  </thead>\n",
       "  <tbody>\n",
       "    <tr>\n",
       "      <th>0</th>\n",
       "      <td>EMERGENCY ROOM ADMIT</td>\n",
       "      <td>Medicaid</td>\n",
       "      <td>NOT SPECIFIED</td>\n",
       "      <td>SINGLE</td>\n",
       "      <td>BLACK/AFRICAN AMERICAN</td>\n",
       "      <td>0</td>\n",
       "      <td>2</td>\n",
       "      <td>F</td>\n",
       "      <td>25</td>\n",
       "    </tr>\n",
       "    <tr>\n",
       "      <th>1</th>\n",
       "      <td>EMERGENCY ROOM ADMIT</td>\n",
       "      <td>Medicare</td>\n",
       "      <td>JEWISH</td>\n",
       "      <td>SINGLE</td>\n",
       "      <td>WHITE</td>\n",
       "      <td>1</td>\n",
       "      <td>2</td>\n",
       "      <td>M</td>\n",
       "      <td>63</td>\n",
       "    </tr>\n",
       "    <tr>\n",
       "      <th>2</th>\n",
       "      <td>CLINIC REFERRAL/PREMATURE</td>\n",
       "      <td>Private</td>\n",
       "      <td>PROTESTANT QUAKER</td>\n",
       "      <td>MARRIED</td>\n",
       "      <td>WHITE</td>\n",
       "      <td>0</td>\n",
       "      <td>6</td>\n",
       "      <td>M</td>\n",
       "      <td>50</td>\n",
       "    </tr>\n",
       "    <tr>\n",
       "      <th>3</th>\n",
       "      <td>EMERGENCY ROOM ADMIT</td>\n",
       "      <td>Private</td>\n",
       "      <td>CATHOLIC</td>\n",
       "      <td>MARRIED</td>\n",
       "      <td>WHITE</td>\n",
       "      <td>0</td>\n",
       "      <td>3</td>\n",
       "      <td>M</td>\n",
       "      <td>56</td>\n",
       "    </tr>\n",
       "    <tr>\n",
       "      <th>4</th>\n",
       "      <td>CLINIC REFERRAL/PREMATURE</td>\n",
       "      <td>Private</td>\n",
       "      <td>CATHOLIC</td>\n",
       "      <td>MARRIED</td>\n",
       "      <td>WHITE</td>\n",
       "      <td>0</td>\n",
       "      <td>3</td>\n",
       "      <td>M</td>\n",
       "      <td>56</td>\n",
       "    </tr>\n",
       "  </tbody>\n",
       "</table>\n",
       "</div>"
      ],
      "text/plain": [
       "          ADMISSION_LOCATION INSURANCE           RELIGION MARITAL_STATUS  \\\n",
       "0       EMERGENCY ROOM ADMIT  Medicaid      NOT SPECIFIED         SINGLE   \n",
       "1       EMERGENCY ROOM ADMIT  Medicare             JEWISH         SINGLE   \n",
       "2  CLINIC REFERRAL/PREMATURE   Private  PROTESTANT QUAKER        MARRIED   \n",
       "3       EMERGENCY ROOM ADMIT   Private           CATHOLIC        MARRIED   \n",
       "4  CLINIC REFERRAL/PREMATURE   Private           CATHOLIC        MARRIED   \n",
       "\n",
       "                ETHNICITY  is_sepsis  LOS GENDER  age  \n",
       "0  BLACK/AFRICAN AMERICAN          0    2      F   25  \n",
       "1                   WHITE          1    2      M   63  \n",
       "2                   WHITE          0    6      M   50  \n",
       "3                   WHITE          0    3      M   56  \n",
       "4                   WHITE          0    3      M   56  "
      ]
     },
     "execution_count": 112,
     "metadata": {},
     "output_type": "execute_result"
    }
   ],
   "source": [
    "# Merge tables\n",
    "\n",
    "df_merge = pd.merge(df_admi, df_diag, on=\"SUBJECT_ID\")\n",
    "df_merge = pd.merge(df_merge,df_los, on=\"SUBJECT_ID\")\n",
    "df_merge = pd.merge(df_merge,df_patient, on=\"SUBJECT_ID\")\n",
    "df_merge.drop([\n",
    "    \"SUBJECT_ID\",\n",
    "    \"ADMISSION_TYPE\",\n",
    "    \"DISCHARGE_LOCATION\"\n",
    "],axis = 1, inplace = True)\n",
    "\n",
    "# downcasting int64 to int 32\n",
    "d = dict.fromkeys(df_merge.select_dtypes(np.int64).columns, np.int32)\n",
    "df_merge = df_merge.astype(d)\n",
    "# df_merge.dtypes\n",
    "df_merge.head()"
   ]
  },
  {
   "cell_type": "markdown",
   "id": "6b4b9bb9",
   "metadata": {},
   "source": [
    "### ML Models"
   ]
  },
  {
   "cell_type": "code",
   "execution_count": 113,
   "id": "e12e6166",
   "metadata": {},
   "outputs": [
    {
     "data": {
      "text/html": [
       "<div>\n",
       "<style scoped>\n",
       "    .dataframe tbody tr th:only-of-type {\n",
       "        vertical-align: middle;\n",
       "    }\n",
       "\n",
       "    .dataframe tbody tr th {\n",
       "        vertical-align: top;\n",
       "    }\n",
       "\n",
       "    .dataframe thead th {\n",
       "        text-align: right;\n",
       "    }\n",
       "</style>\n",
       "<table border=\"1\" class=\"dataframe\">\n",
       "  <thead>\n",
       "    <tr style=\"text-align: right;\">\n",
       "      <th></th>\n",
       "      <th>ADMISSION_LOCATION</th>\n",
       "      <th>INSURANCE</th>\n",
       "      <th>RELIGION</th>\n",
       "      <th>MARITAL_STATUS</th>\n",
       "      <th>ETHNICITY</th>\n",
       "      <th>LOS</th>\n",
       "      <th>GENDER</th>\n",
       "      <th>age</th>\n",
       "    </tr>\n",
       "  </thead>\n",
       "  <tbody>\n",
       "    <tr>\n",
       "      <th>0</th>\n",
       "      <td>EMERGENCY ROOM ADMIT</td>\n",
       "      <td>Medicaid</td>\n",
       "      <td>NOT SPECIFIED</td>\n",
       "      <td>SINGLE</td>\n",
       "      <td>BLACK/AFRICAN AMERICAN</td>\n",
       "      <td>2</td>\n",
       "      <td>F</td>\n",
       "      <td>25</td>\n",
       "    </tr>\n",
       "    <tr>\n",
       "      <th>1</th>\n",
       "      <td>EMERGENCY ROOM ADMIT</td>\n",
       "      <td>Medicare</td>\n",
       "      <td>JEWISH</td>\n",
       "      <td>SINGLE</td>\n",
       "      <td>WHITE</td>\n",
       "      <td>2</td>\n",
       "      <td>M</td>\n",
       "      <td>63</td>\n",
       "    </tr>\n",
       "    <tr>\n",
       "      <th>2</th>\n",
       "      <td>CLINIC REFERRAL/PREMATURE</td>\n",
       "      <td>Private</td>\n",
       "      <td>PROTESTANT QUAKER</td>\n",
       "      <td>MARRIED</td>\n",
       "      <td>WHITE</td>\n",
       "      <td>6</td>\n",
       "      <td>M</td>\n",
       "      <td>50</td>\n",
       "    </tr>\n",
       "    <tr>\n",
       "      <th>3</th>\n",
       "      <td>EMERGENCY ROOM ADMIT</td>\n",
       "      <td>Private</td>\n",
       "      <td>CATHOLIC</td>\n",
       "      <td>MARRIED</td>\n",
       "      <td>WHITE</td>\n",
       "      <td>3</td>\n",
       "      <td>M</td>\n",
       "      <td>56</td>\n",
       "    </tr>\n",
       "    <tr>\n",
       "      <th>4</th>\n",
       "      <td>CLINIC REFERRAL/PREMATURE</td>\n",
       "      <td>Private</td>\n",
       "      <td>CATHOLIC</td>\n",
       "      <td>MARRIED</td>\n",
       "      <td>WHITE</td>\n",
       "      <td>3</td>\n",
       "      <td>M</td>\n",
       "      <td>56</td>\n",
       "    </tr>\n",
       "  </tbody>\n",
       "</table>\n",
       "</div>"
      ],
      "text/plain": [
       "          ADMISSION_LOCATION INSURANCE           RELIGION MARITAL_STATUS  \\\n",
       "0       EMERGENCY ROOM ADMIT  Medicaid      NOT SPECIFIED         SINGLE   \n",
       "1       EMERGENCY ROOM ADMIT  Medicare             JEWISH         SINGLE   \n",
       "2  CLINIC REFERRAL/PREMATURE   Private  PROTESTANT QUAKER        MARRIED   \n",
       "3       EMERGENCY ROOM ADMIT   Private           CATHOLIC        MARRIED   \n",
       "4  CLINIC REFERRAL/PREMATURE   Private           CATHOLIC        MARRIED   \n",
       "\n",
       "                ETHNICITY  LOS GENDER  age  \n",
       "0  BLACK/AFRICAN AMERICAN    2      F   25  \n",
       "1                   WHITE    2      M   63  \n",
       "2                   WHITE    6      M   50  \n",
       "3                   WHITE    3      M   56  \n",
       "4                   WHITE    3      M   56  "
      ]
     },
     "execution_count": 113,
     "metadata": {},
     "output_type": "execute_result"
    }
   ],
   "source": [
    "# Indepenet variable\n",
    "X = df_merge.drop('is_sepsis',axis = 1).copy()\n",
    "X.head()"
   ]
  },
  {
   "cell_type": "code",
   "execution_count": 114,
   "id": "4ecfdb9f",
   "metadata": {},
   "outputs": [
    {
     "data": {
      "text/plain": [
       "<bound method Series.unique of 0       0\n",
       "1       1\n",
       "2       0\n",
       "3       0\n",
       "4       0\n",
       "       ..\n",
       "1058    0\n",
       "1059    0\n",
       "1060    0\n",
       "1061    0\n",
       "1062    0\n",
       "Name: is_sepsis, Length: 1063, dtype: int32>"
      ]
     },
     "execution_count": 114,
     "metadata": {},
     "output_type": "execute_result"
    }
   ],
   "source": [
    "# Dependent variable\n",
    "y = df_merge['is_sepsis'].copy()\n",
    "y.head()\n",
    "y.unique"
   ]
  },
  {
   "cell_type": "code",
   "execution_count": 115,
   "id": "de643e8f",
   "metadata": {},
   "outputs": [
    {
     "data": {
      "text/html": [
       "<div>\n",
       "<style scoped>\n",
       "    .dataframe tbody tr th:only-of-type {\n",
       "        vertical-align: middle;\n",
       "    }\n",
       "\n",
       "    .dataframe tbody tr th {\n",
       "        vertical-align: top;\n",
       "    }\n",
       "\n",
       "    .dataframe thead th {\n",
       "        text-align: right;\n",
       "    }\n",
       "</style>\n",
       "<table border=\"1\" class=\"dataframe\">\n",
       "  <thead>\n",
       "    <tr style=\"text-align: right;\">\n",
       "      <th></th>\n",
       "      <th>LOS</th>\n",
       "      <th>age</th>\n",
       "      <th>ADMISSION_LOCATION_CLINIC REFERRAL/PREMATURE</th>\n",
       "      <th>ADMISSION_LOCATION_EMERGENCY ROOM ADMIT</th>\n",
       "      <th>ADMISSION_LOCATION_PHYS REFERRAL/NORMAL DELI</th>\n",
       "      <th>ADMISSION_LOCATION_TRANSFER FROM HOSP/EXTRAM</th>\n",
       "      <th>ADMISSION_LOCATION_TRANSFER FROM OTHER HEALT</th>\n",
       "      <th>ADMISSION_LOCATION_TRANSFER FROM SKILLED NUR</th>\n",
       "      <th>INSURANCE_Government</th>\n",
       "      <th>INSURANCE_Medicaid</th>\n",
       "      <th>...</th>\n",
       "      <th>ETHNICITY_PATIENT DECLINED TO ANSWER</th>\n",
       "      <th>ETHNICITY_PORTUGUESE</th>\n",
       "      <th>ETHNICITY_UNABLE TO OBTAIN</th>\n",
       "      <th>ETHNICITY_UNKNOWN/NOT SPECIFIED</th>\n",
       "      <th>ETHNICITY_WHITE</th>\n",
       "      <th>ETHNICITY_WHITE - EASTERN EUROPEAN</th>\n",
       "      <th>ETHNICITY_WHITE - OTHER EUROPEAN</th>\n",
       "      <th>ETHNICITY_WHITE - RUSSIAN</th>\n",
       "      <th>GENDER_F</th>\n",
       "      <th>GENDER_M</th>\n",
       "    </tr>\n",
       "  </thead>\n",
       "  <tbody>\n",
       "    <tr>\n",
       "      <th>0</th>\n",
       "      <td>2</td>\n",
       "      <td>25</td>\n",
       "      <td>0</td>\n",
       "      <td>1</td>\n",
       "      <td>0</td>\n",
       "      <td>0</td>\n",
       "      <td>0</td>\n",
       "      <td>0</td>\n",
       "      <td>0</td>\n",
       "      <td>1</td>\n",
       "      <td>...</td>\n",
       "      <td>0</td>\n",
       "      <td>0</td>\n",
       "      <td>0</td>\n",
       "      <td>0</td>\n",
       "      <td>0</td>\n",
       "      <td>0</td>\n",
       "      <td>0</td>\n",
       "      <td>0</td>\n",
       "      <td>1</td>\n",
       "      <td>0</td>\n",
       "    </tr>\n",
       "    <tr>\n",
       "      <th>1</th>\n",
       "      <td>2</td>\n",
       "      <td>63</td>\n",
       "      <td>0</td>\n",
       "      <td>1</td>\n",
       "      <td>0</td>\n",
       "      <td>0</td>\n",
       "      <td>0</td>\n",
       "      <td>0</td>\n",
       "      <td>0</td>\n",
       "      <td>0</td>\n",
       "      <td>...</td>\n",
       "      <td>0</td>\n",
       "      <td>0</td>\n",
       "      <td>0</td>\n",
       "      <td>0</td>\n",
       "      <td>1</td>\n",
       "      <td>0</td>\n",
       "      <td>0</td>\n",
       "      <td>0</td>\n",
       "      <td>0</td>\n",
       "      <td>1</td>\n",
       "    </tr>\n",
       "    <tr>\n",
       "      <th>2</th>\n",
       "      <td>6</td>\n",
       "      <td>50</td>\n",
       "      <td>1</td>\n",
       "      <td>0</td>\n",
       "      <td>0</td>\n",
       "      <td>0</td>\n",
       "      <td>0</td>\n",
       "      <td>0</td>\n",
       "      <td>0</td>\n",
       "      <td>0</td>\n",
       "      <td>...</td>\n",
       "      <td>0</td>\n",
       "      <td>0</td>\n",
       "      <td>0</td>\n",
       "      <td>0</td>\n",
       "      <td>1</td>\n",
       "      <td>0</td>\n",
       "      <td>0</td>\n",
       "      <td>0</td>\n",
       "      <td>0</td>\n",
       "      <td>1</td>\n",
       "    </tr>\n",
       "    <tr>\n",
       "      <th>3</th>\n",
       "      <td>3</td>\n",
       "      <td>56</td>\n",
       "      <td>0</td>\n",
       "      <td>1</td>\n",
       "      <td>0</td>\n",
       "      <td>0</td>\n",
       "      <td>0</td>\n",
       "      <td>0</td>\n",
       "      <td>0</td>\n",
       "      <td>0</td>\n",
       "      <td>...</td>\n",
       "      <td>0</td>\n",
       "      <td>0</td>\n",
       "      <td>0</td>\n",
       "      <td>0</td>\n",
       "      <td>1</td>\n",
       "      <td>0</td>\n",
       "      <td>0</td>\n",
       "      <td>0</td>\n",
       "      <td>0</td>\n",
       "      <td>1</td>\n",
       "    </tr>\n",
       "    <tr>\n",
       "      <th>4</th>\n",
       "      <td>3</td>\n",
       "      <td>56</td>\n",
       "      <td>1</td>\n",
       "      <td>0</td>\n",
       "      <td>0</td>\n",
       "      <td>0</td>\n",
       "      <td>0</td>\n",
       "      <td>0</td>\n",
       "      <td>0</td>\n",
       "      <td>0</td>\n",
       "      <td>...</td>\n",
       "      <td>0</td>\n",
       "      <td>0</td>\n",
       "      <td>0</td>\n",
       "      <td>0</td>\n",
       "      <td>1</td>\n",
       "      <td>0</td>\n",
       "      <td>0</td>\n",
       "      <td>0</td>\n",
       "      <td>0</td>\n",
       "      <td>1</td>\n",
       "    </tr>\n",
       "  </tbody>\n",
       "</table>\n",
       "<p>5 rows × 61 columns</p>\n",
       "</div>"
      ],
      "text/plain": [
       "   LOS  age  ADMISSION_LOCATION_CLINIC REFERRAL/PREMATURE  \\\n",
       "0    2   25                                             0   \n",
       "1    2   63                                             0   \n",
       "2    6   50                                             1   \n",
       "3    3   56                                             0   \n",
       "4    3   56                                             1   \n",
       "\n",
       "   ADMISSION_LOCATION_EMERGENCY ROOM ADMIT  \\\n",
       "0                                        1   \n",
       "1                                        1   \n",
       "2                                        0   \n",
       "3                                        1   \n",
       "4                                        0   \n",
       "\n",
       "   ADMISSION_LOCATION_PHYS REFERRAL/NORMAL DELI  \\\n",
       "0                                             0   \n",
       "1                                             0   \n",
       "2                                             0   \n",
       "3                                             0   \n",
       "4                                             0   \n",
       "\n",
       "   ADMISSION_LOCATION_TRANSFER FROM HOSP/EXTRAM  \\\n",
       "0                                             0   \n",
       "1                                             0   \n",
       "2                                             0   \n",
       "3                                             0   \n",
       "4                                             0   \n",
       "\n",
       "   ADMISSION_LOCATION_TRANSFER FROM OTHER HEALT  \\\n",
       "0                                             0   \n",
       "1                                             0   \n",
       "2                                             0   \n",
       "3                                             0   \n",
       "4                                             0   \n",
       "\n",
       "   ADMISSION_LOCATION_TRANSFER FROM SKILLED NUR  INSURANCE_Government  \\\n",
       "0                                             0                     0   \n",
       "1                                             0                     0   \n",
       "2                                             0                     0   \n",
       "3                                             0                     0   \n",
       "4                                             0                     0   \n",
       "\n",
       "   INSURANCE_Medicaid  ...  ETHNICITY_PATIENT DECLINED TO ANSWER  \\\n",
       "0                   1  ...                                     0   \n",
       "1                   0  ...                                     0   \n",
       "2                   0  ...                                     0   \n",
       "3                   0  ...                                     0   \n",
       "4                   0  ...                                     0   \n",
       "\n",
       "   ETHNICITY_PORTUGUESE  ETHNICITY_UNABLE TO OBTAIN  \\\n",
       "0                     0                           0   \n",
       "1                     0                           0   \n",
       "2                     0                           0   \n",
       "3                     0                           0   \n",
       "4                     0                           0   \n",
       "\n",
       "   ETHNICITY_UNKNOWN/NOT SPECIFIED  ETHNICITY_WHITE  \\\n",
       "0                                0                0   \n",
       "1                                0                1   \n",
       "2                                0                1   \n",
       "3                                0                1   \n",
       "4                                0                1   \n",
       "\n",
       "   ETHNICITY_WHITE - EASTERN EUROPEAN  ETHNICITY_WHITE - OTHER EUROPEAN  \\\n",
       "0                                   0                                 0   \n",
       "1                                   0                                 0   \n",
       "2                                   0                                 0   \n",
       "3                                   0                                 0   \n",
       "4                                   0                                 0   \n",
       "\n",
       "   ETHNICITY_WHITE - RUSSIAN  GENDER_F  GENDER_M  \n",
       "0                          0         1         0  \n",
       "1                          0         0         1  \n",
       "2                          0         0         1  \n",
       "3                          0         0         1  \n",
       "4                          0         0         1  \n",
       "\n",
       "[5 rows x 61 columns]"
      ]
     },
     "execution_count": 115,
     "metadata": {},
     "output_type": "execute_result"
    }
   ],
   "source": [
    "# Data transformation --> one hot encoding\n",
    "X_encoded = pd.get_dummies(X, columns=[\n",
    "    'ADMISSION_LOCATION',\n",
    "    'INSURANCE',\n",
    "    'RELIGION',\n",
    "    'MARITAL_STATUS',\n",
    "    'ETHNICITY',\n",
    "    'GENDER'\n",
    "])\n",
    "X_encoded.head()\n"
   ]
  },
  {
   "cell_type": "code",
   "execution_count": 116,
   "id": "1c12766b",
   "metadata": {},
   "outputs": [
    {
     "data": {
      "text/plain": [
       "<AxesSubplot:ylabel='is_sepsis'>"
      ]
     },
     "execution_count": 116,
     "metadata": {},
     "output_type": "execute_result"
    },
    {
     "data": {
      "image/png": "[encoded data removed]",
      "text/plain": [
       "<Figure size 432x288 with 1 Axes>"
      ]
     },
     "metadata": {},
     "output_type": "display_data"
    }
   ],
   "source": [
    "# Display pie chart\n",
    "y.value_counts().plot.pie(autopct='%.2f')"
   ]
  },
  {
   "cell_type": "markdown",
   "id": "b2608b8d",
   "metadata": {},
   "source": [
    "Dataset is unbalanced"
   ]
  },
  {
   "cell_type": "markdown",
   "id": "587ea749",
   "metadata": {},
   "source": [
    "### Random Undersampling"
   ]
  },
  {
   "cell_type": "code",
   "execution_count": 117,
   "id": "4309f646",
   "metadata": {},
   "outputs": [
    {
     "data": {
      "image/png": "[encoded data removed]",
      "text/plain": [
       "<Figure size 432x288 with 1 Axes>"
      ]
     },
     "metadata": {},
     "output_type": "display_data"
    }
   ],
   "source": [
    "rus = RandomUnderSampler(sampling_strategy=1)\n",
    "X_res, y_res = rus.fit_resample(X_encoded, y)\n",
    "\n",
    "ax = y_res.value_counts().plot.pie(autopct='%.2f')"
   ]
  },
  {
   "cell_type": "code",
   "execution_count": 118,
   "id": "88a82a59",
   "metadata": {},
   "outputs": [],
   "source": [
    "X_train, X_test, y_train, y_test = train_test_split(X_res, y_res, random_state = 42, test_size=0.2)\n"
   ]
  },
  {
   "cell_type": "code",
   "execution_count": 119,
   "id": "54461a5c",
   "metadata": {},
   "outputs": [
    {
     "data": {
      "text/plain": [
       "0.5038759689922481"
      ]
     },
     "execution_count": 119,
     "metadata": {},
     "output_type": "execute_result"
    }
   ],
   "source": [
    "sum(y_train)/len(y_train)"
   ]
  },
  {
   "cell_type": "code",
   "execution_count": 120,
   "id": "d5a1db9c",
   "metadata": {},
   "outputs": [
    {
     "data": {
      "text/plain": [
       "0.48484848484848486"
      ]
     },
     "execution_count": 120,
     "metadata": {},
     "output_type": "execute_result"
    }
   ],
   "source": [
    "sum(y_test)/len(y_test)"
   ]
  },
  {
   "cell_type": "markdown",
   "id": "5370c1c3",
   "metadata": {},
   "source": [
    "### XGBoost"
   ]
  },
  {
   "cell_type": "code",
   "execution_count": 121,
   "id": "84cd176c",
   "metadata": {},
   "outputs": [
    {
     "name": "stdout",
     "output_type": "stream",
     "text": [
      "[0]\tvalidation_0-auc:0.61581\n",
      "[1]\tvalidation_0-auc:0.61029\n",
      "[2]\tvalidation_0-auc:0.62316\n",
      "[3]\tvalidation_0-auc:0.57904\n",
      "[4]\tvalidation_0-auc:0.56434\n",
      "[5]\tvalidation_0-auc:0.53493\n",
      "[6]\tvalidation_0-auc:0.52757\n",
      "[7]\tvalidation_0-auc:0.53309\n",
      "[8]\tvalidation_0-auc:0.52941\n",
      "[9]\tvalidation_0-auc:0.53677\n",
      "[10]\tvalidation_0-auc:0.50735\n",
      "[11]\tvalidation_0-auc:0.52206\n"
     ]
    },
    {
     "name": "stderr",
     "output_type": "stream",
     "text": [
      "/home/alexzeng/anaconda3/envs/sepsis-project/lib/python3.9/site-packages/xgboost/data.py:250: FutureWarning: pandas.Int64Index is deprecated and will be removed from pandas in a future version. Use pandas.Index with the appropriate dtype instead.\n",
      "  elif isinstance(data.columns, (pd.Int64Index, pd.RangeIndex)):\n"
     ]
    },
    {
     "data": {
      "text/plain": [
       "XGBClassifier(base_score=0.5, booster='gbtree', colsample_bylevel=1,\n",
       "              colsample_bynode=1, colsample_bytree=1, enable_categorical=False,\n",
       "              eval_metric='auc', gamma=0, gpu_id=-1, importance_type=None,\n",
       "              interaction_constraints='', learning_rate=0.300000012,\n",
       "              max_delta_step=0, max_depth=6, min_child_weight=1, missing=1,\n",
       "              monotone_constraints='()', n_estimators=5000, n_jobs=8,\n",
       "              num_parallel_tree=1, predictor='auto', random_state=42,\n",
       "              reg_alpha=0, reg_lambda=1, scale_pos_weight=1, seed=42,\n",
       "              subsample=1, tree_method='exact', use_label_encoder=False,\n",
       "              validate_parameters=1, ...)"
      ]
     },
     "execution_count": 121,
     "metadata": {},
     "output_type": "execute_result"
    }
   ],
   "source": [
    "# Fitting models\n",
    "clf_xgb = xgb.XGBClassifier(\n",
    "    objective='binary:logistic',\n",
    "    n_estimators = 5000,\n",
    "    missing = 1, \n",
    "    seed = 42,\n",
    "    use_label_encoder = False,\n",
    "    eval_metric='auc',\n",
    "    verbosity = 1\n",
    ")\n",
    "\n",
    "clf_xgb.fit(X_train,\n",
    "            y_train,\n",
    "            verbose=True,\n",
    "            early_stopping_rounds=10,\n",
    "            eval_set=[(X_test, y_test)]\n",
    ")"
   ]
  },
  {
   "cell_type": "code",
   "execution_count": 122,
   "id": "485f105f",
   "metadata": {},
   "outputs": [
    {
     "name": "stderr",
     "output_type": "stream",
     "text": [
      "/home/alexzeng/anaconda3/envs/sepsis-project/lib/python3.9/site-packages/sklearn/utils/deprecation.py:87: FutureWarning: Function plot_confusion_matrix is deprecated; Function `plot_confusion_matrix` is deprecated in 1.0 and will be removed in 1.2. Use one of the class methods: ConfusionMatrixDisplay.from_predictions or ConfusionMatrixDisplay.from_estimator.\n",
      "  warnings.warn(msg, category=FutureWarning)\n"
     ]
    },
    {
     "data": {
      "text/plain": [
       "<sklearn.metrics._plot.confusion_matrix.ConfusionMatrixDisplay at 0x7fbed14da4f0>"
      ]
     },
     "execution_count": 122,
     "metadata": {},
     "output_type": "execute_result"
    },
    {
     "data": {
      "image/png": "[encoded data removed]",
      "text/plain": [
       "<Figure size 432x288 with 2 Axes>"
      ]
     },
     "metadata": {
      "needs_background": "light"
     },
     "output_type": "display_data"
    }
   ],
   "source": [
    "# Model Performance\n",
    "plot_confusion_matrix(clf_xgb,\n",
    "                     X_test,\n",
    "                     y_test,\n",
    "                     values_format='d',\n",
    "                     display_labels=[\"is sepsis\",\"isn't sepsis\"])\n",
    "                     "
   ]
  },
  {
   "cell_type": "markdown",
   "id": "c12492dc",
   "metadata": {},
   "source": [
    "### Logistic Regression"
   ]
  },
  {
   "cell_type": "code",
   "execution_count": 124,
   "id": "753f8117",
   "metadata": {},
   "outputs": [
    {
     "name": "stderr",
     "output_type": "stream",
     "text": [
      "/home/alexzeng/anaconda3/envs/sepsis-project/lib/python3.9/site-packages/sklearn/linear_model/_logistic.py:814: ConvergenceWarning: lbfgs failed to converge (status=1):\n",
      "STOP: TOTAL NO. of ITERATIONS REACHED LIMIT.\n",
      "\n",
      "Increase the number of iterations (max_iter) or scale the data as shown in:\n",
      "    https://scikit-learn.org/stable/modules/preprocessing.html\n",
      "Please also refer to the documentation for alternative solver options:\n",
      "    https://scikit-learn.org/stable/modules/linear_model.html#logistic-regression\n",
      "  n_iter_i = _check_optimize_result(\n"
     ]
    },
    {
     "data": {
      "text/plain": [
       "LogisticRegression()"
      ]
     },
     "execution_count": 124,
     "metadata": {},
     "output_type": "execute_result"
    }
   ],
   "source": [
    "lr = LogisticRegression(solver='lbfgs', max_iter=100)\n",
    "\n",
    "lr.fit(X_train, y_train)"
   ]
  },
  {
   "cell_type": "code",
   "execution_count": null,
   "id": "e1b63101",
   "metadata": {},
   "outputs": [],
   "source": []
  }
 ],
 "metadata": {
  "kernelspec": {
   "display_name": "Python 3 (ipykernel)",
   "language": "python",
   "name": "python3"
  },
  "language_info": {
   "codemirror_mode": {
    "name": "ipython",
    "version": 3
   },
   "file_extension": ".py",
   "mimetype": "text/x-python",
   "name": "python",
   "nbconvert_exporter": "python",
   "pygments_lexer": "ipython3",
   "version": "3.9.12"
  }
 },
 "nbformat": 4,
 "nbformat_minor": 5
}
